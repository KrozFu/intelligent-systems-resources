{
 "cells": [
  {
   "cell_type": "markdown",
   "id": "55af3673",
   "metadata": {},
   "source": [
    "# Primer Punto\n",
    "\n",
    "Implemente el procedimiento de validación cruzada de 10 particiones y úselo para determinar el desempeño de un clasificador bayesiano con distribución gaussiana sobre la base de datos Iris (considere solamente las clases setosa y versicolor pero use todas las caracterı́sticas). Repita el procedimiento para un clasificador geométrico por mı́nimos cuadrados. ¿Qué diferencias encuentra? Documente los pasos, pruebas, errores y ajustes que realizó hasta obtener los resultados finales."
   ]
  },
  {
   "cell_type": "code",
   "execution_count": 5,
   "id": "3f6bcf02",
   "metadata": {},
   "outputs": [
    {
     "name": "stdout",
     "output_type": "stream",
     "text": [
      "Librerías cargadas\n"
     ]
    }
   ],
   "source": [
    "# Importar librerías necesarias (respetando las restricciones del examen)\n",
    "import pandas as pd\n",
    "import numpy as np\n",
    "from sklearn.naive_bayes import GaussianNB\n",
    "from sklearn.metrics import accuracy_score, confusion_matrix\n",
    "from sklearn.preprocessing import StandardScaler\n",
    "from sklearn.datasets import load_iris\n",
    "import matplotlib.pyplot as plt\n",
    "import seaborn as sns\n",
    "import warnings\n",
    "warnings.filterwarnings('ignore')\n",
    "\n",
    "print(\"Librerías cargadas\")"
   ]
  },
  {
   "cell_type": "code",
   "execution_count": 6,
   "id": "67bfbd45",
   "metadata": {},
   "outputs": [
    {
     "name": "stdout",
     "output_type": "stream",
     "text": [
      "Dataset cargado:\n",
      "- Total de muestras: 100\n",
      "- Características: 4\n",
      "- Clases: [0 1]\n",
      "- Distribución de clases:\n",
      "  - Setosa (0): 50 muestras\n",
      "  - Versicolor (1): 50 muestras\n",
      "- Nombres de características: ['sepal length (cm)', 'sepal width (cm)', 'petal length (cm)', 'petal width (cm)']\n"
     ]
    }
   ],
   "source": [
    "# Cargar y preprocesar el dataset iris usando load_iris() de sklearn\n",
    "# Solo usar las clases setosa y versicolor\n",
    "iris = load_iris()\n",
    "X_full = iris.data\n",
    "y_full = iris.target\n",
    "\n",
    "# Filtrar solo setosa (0) y versicolor (1)\n",
    "# Crear máscara para las clases 0 y 1\n",
    "mask = (y_full == 0) | (y_full == 1)\n",
    "X = X_full[mask]\n",
    "y = y_full[mask]\n",
    "\n",
    "print(f\"Dataset cargado:\")\n",
    "print(f\"- Total de muestras: {len(X)}\")\n",
    "print(f\"- Características: {X.shape[1]}\")\n",
    "print(f\"- Clases: {np.unique(y)}\")\n",
    "print(f\"- Distribución de clases:\")\n",
    "print(f\"  - Setosa (0): {np.sum(y == 0)} muestras\")\n",
    "print(f\"  - Versicolor (1): {np.sum(y == 1)} muestras\")\n",
    "print(f\"- Nombres de características: {iris.feature_names}\")\n"
   ]
  },
  {
   "cell_type": "code",
   "execution_count": 15,
   "id": "0b7d117b",
   "metadata": {},
   "outputs": [
    {
     "name": "stdout",
     "output_type": "stream",
     "text": [
      "Clasificador Bayesiano Gaussiano implementado\n"
     ]
    }
   ],
   "source": [
    "# Clasificador Bayesiano Gaussiano usando GaussianNB de sklearn\n",
    "class GaussianBayesClassifier:\n",
    "    def __init__(self):\n",
    "        self.model = GaussianNB()\n",
    "    \n",
    "    def fit(self, X, y):\n",
    "        self.model.fit(X, y)\n",
    "    \n",
    "    def predict(self, X):\n",
    "        return self.model.predict(X)\n",
    "\n",
    "print(\"Clasificador Bayesiano Gaussiano implementado\")\n"
   ]
  },
  {
   "cell_type": "code",
   "execution_count": 8,
   "id": "f4e5a567",
   "metadata": {},
   "outputs": [
    {
     "name": "stdout",
     "output_type": "stream",
     "text": [
      "Clasificador Geométrico por Mínimos Cuadrados implementado\n"
     ]
    }
   ],
   "source": [
    "# Clasificador Geométrico por Mínimos Cuadrados\n",
    "class GeometricClassifier:\n",
    "    def __init__(self):\n",
    "        self.weights = None\n",
    "        self.bias = None\n",
    "    \n",
    "    def fit(self, X, y):\n",
    "        # Convertir etiquetas a -1 y 1 para el clasificador geométrico\n",
    "        y_binary = np.where(y == 0, -1, 1)\n",
    "        \n",
    "        # Agregar columna de unos para el bias\n",
    "        X_augmented = np.column_stack([np.ones(X.shape[0]), X])\n",
    "        \n",
    "        # Calcular pesos usando mínimos cuadrados: w = (X^T X)^(-1) X^T y\n",
    "        try:\n",
    "            self.weights = np.linalg.inv(X_augmented.T @ X_augmented) @ X_augmented.T @ y_binary\n",
    "        except np.linalg.LinAlgError:\n",
    "            # Si la matriz es singular, usar pseudoinversa\n",
    "            self.weights = np.linalg.pinv(X_augmented) @ y_binary\n",
    "        \n",
    "        self.bias = self.weights[0]\n",
    "        self.weights = self.weights[1:]\n",
    "    \n",
    "    def predict(self, X):\n",
    "        # Calcular predicciones: sign(w^T x + b)\n",
    "        predictions = np.sign(X @ self.weights + self.bias)\n",
    "        # Convertir de vuelta a 0 y 1\n",
    "        return np.where(predictions == -1, 0, 1)\n",
    "\n",
    "print(\"Clasificador Geométrico por Mínimos Cuadrados implementado\")\n"
   ]
  },
  {
   "cell_type": "markdown",
   "id": "6a48d4cf",
   "metadata": {},
   "source": [
    "Función para validación cruzada manual"
   ]
  },
  {
   "cell_type": "code",
   "execution_count": 9,
   "id": "98fb3d15",
   "metadata": {},
   "outputs": [
    {
     "name": "stdout",
     "output_type": "stream",
     "text": [
      "Función de validación cruzada implementada\n"
     ]
    }
   ],
   "source": [
    "def cross_validation_evaluation(X, y, classifier, n_splits=10):\n",
    "    \"\"\"\n",
    "    Realiza validación cruzada de k particiones manualmente y retorna las métricas de evaluación\n",
    "    \"\"\"\n",
    "    n_samples = len(X)\n",
    "    fold_size = n_samples // n_splits\n",
    "    accuracies = []\n",
    "    \n",
    "    # Crear índices aleatorios para mezclar los datos\n",
    "    np.random.seed(42)  # Para reproducibilidad\n",
    "    indices = np.random.permutation(n_samples)\n",
    "    \n",
    "    for i in range(n_splits):\n",
    "        # Calcular índices de test para esta partición\n",
    "        start_idx = i * fold_size\n",
    "        if i == n_splits - 1:  # Última partición toma todos los datos restantes\n",
    "            end_idx = n_samples\n",
    "        else:\n",
    "            end_idx = start_idx + fold_size\n",
    "        \n",
    "        test_idx = indices[start_idx:end_idx]\n",
    "        train_idx = np.concatenate([indices[:start_idx], indices[end_idx:]])\n",
    "        \n",
    "        # Dividir datos\n",
    "        X_train, X_test = X[train_idx], X[test_idx]\n",
    "        y_train, y_test = y[train_idx], y[test_idx]\n",
    "        \n",
    "        # Normalizar características\n",
    "        scaler = StandardScaler()\n",
    "        X_train_scaled = scaler.fit_transform(X_train)\n",
    "        X_test_scaled = scaler.transform(X_test)\n",
    "        \n",
    "        # Entrenar y predecir\n",
    "        classifier.fit(X_train_scaled, y_train)\n",
    "        y_pred = classifier.predict(X_test_scaled)\n",
    "        \n",
    "        # Calcular precisión\n",
    "        accuracy = accuracy_score(y_test, y_pred)\n",
    "        accuracies.append(accuracy)\n",
    "    \n",
    "    return accuracies\n",
    "\n",
    "print(\"Función de validación cruzada implementada\")\n"
   ]
  },
  {
   "cell_type": "markdown",
   "id": "49b363fc",
   "metadata": {},
   "source": [
    "Evaluación del Clasificador Bayesiano Gaussiano"
   ]
  },
  {
   "cell_type": "code",
   "execution_count": 10,
   "id": "5863f366",
   "metadata": {},
   "outputs": [
    {
     "name": "stdout",
     "output_type": "stream",
     "text": [
      "============================================================\n",
      "EVALUACIÓN DEL CLASIFICADOR BAYESIANO GAUSSIANO\n",
      "============================================================\n",
      "Precisiones por partición: ['1.0000', '1.0000', '1.0000', '1.0000', '1.0000', '1.0000', '1.0000', '1.0000', '1.0000', '1.0000']\n",
      "Precisión promedio: 1.0000\n",
      "Desviación estándar: 0.0000\n",
      "Precisión mínima: 1.0000\n",
      "Precisión máxima: 1.0000\n"
     ]
    }
   ],
   "source": [
    "print(\"=\" * 60)\n",
    "print(\"EVALUACIÓN DEL CLASIFICADOR BAYESIANO GAUSSIANO\")\n",
    "print(\"=\" * 60)\n",
    "\n",
    "bayes_classifier = GaussianBayesClassifier()\n",
    "bayes_accuracies = cross_validation_evaluation(X, y, bayes_classifier, n_splits=10)\n",
    "\n",
    "print(f\"Precisiones por partición: {[f'{acc:.4f}' for acc in bayes_accuracies]}\")\n",
    "print(f\"Precisión promedio: {np.mean(bayes_accuracies):.4f}\")\n",
    "print(f\"Desviación estándar: {np.std(bayes_accuracies):.4f}\")\n",
    "print(f\"Precisión mínima: {np.min(bayes_accuracies):.4f}\")\n",
    "print(f\"Precisión máxima: {np.max(bayes_accuracies):.4f}\")\n"
   ]
  },
  {
   "cell_type": "markdown",
   "id": "85369208",
   "metadata": {},
   "source": [
    "Evaluación del Clasificador Geométrico por Mínimos Cuadrados"
   ]
  },
  {
   "cell_type": "code",
   "execution_count": 14,
   "id": "63b26028",
   "metadata": {},
   "outputs": [
    {
     "name": "stdout",
     "output_type": "stream",
     "text": [
      "\n",
      "============================================================\n",
      "EVALUACIÓN DEL CLASIFICADOR GEOMÉTRICO POR MÍNIMOS CUADRADOS\n",
      "============================================================\n",
      "Precisiones por partición: ['1.0000', '1.0000', '1.0000', '1.0000', '1.0000', '1.0000', '1.0000', '1.0000', '1.0000', '1.0000']\n",
      "Precisión promedio: 1.0000\n",
      "Desviación estándar: 0.0000\n",
      "Precisión mínima: 1.0000\n",
      "Precisión máxima: 1.0000\n"
     ]
    }
   ],
   "source": [
    "print(\"\\n\" + \"=\" * 60)\n",
    "print(\"EVALUACIÓN DEL CLASIFICADOR GEOMÉTRICO POR MÍNIMOS CUADRADOS\")\n",
    "print(\"=\" * 60)\n",
    "\n",
    "geometric_classifier = GeometricClassifier()\n",
    "geometric_accuracies = cross_validation_evaluation(X, y, geometric_classifier, n_splits=10)\n",
    "\n",
    "print(f\"Precisiones por partición: {[f'{acc:.4f}' for acc in geometric_accuracies]}\")\n",
    "print(f\"Precisión promedio: {np.mean(geometric_accuracies):.4f}\")\n",
    "print(f\"Desviación estándar: {np.std(geometric_accuracies):.4f}\")\n",
    "print(f\"Precisión mínima: {np.min(geometric_accuracies):.4f}\")\n",
    "print(f\"Precisión máxima: {np.max(geometric_accuracies):.4f}\")\n"
   ]
  },
  {
   "cell_type": "code",
   "execution_count": 12,
   "id": "93c6d5d6",
   "metadata": {},
   "outputs": [
    {
     "name": "stdout",
     "output_type": "stream",
     "text": [
      "\n",
      "============================================================\n",
      "COMPARACIÓN Y ANÁLISIS DE RESULTADOS\n",
      "============================================================\n",
      "            Métrica Bayesiano Gaussiano Geométrico (Mínimos Cuadrados)\n",
      " Precisión Promedio              1.0000                         1.0000\n",
      "Desviación Estándar              0.0000                         0.0000\n",
      "   Precisión Mínima              1.0000                         1.0000\n",
      "   Precisión Máxima              1.0000                         1.0000\n",
      "\n",
      "DIFERENCIAS ENCONTRADAS:\n",
      "- Diferencia en precisión promedio: 0.0000\n",
      "- Diferencia en desviación estándar: 0.0000\n",
      "- El clasificador bayesiano supera al geométrico por 0.0000 en precisión promedio\n"
     ]
    }
   ],
   "source": [
    "# Comparación y Análisis de Resultados\n",
    "print(\"\\n\" + \"=\" * 60)\n",
    "print(\"COMPARACIÓN Y ANÁLISIS DE RESULTADOS\")\n",
    "print(\"=\" * 60)\n",
    "\n",
    "# Crear DataFrame para comparación\n",
    "comparison_data = {\n",
    "    'Métrica': ['Precisión Promedio', 'Desviación Estándar', 'Precisión Mínima', 'Precisión Máxima'],\n",
    "    'Bayesiano Gaussiano': [\n",
    "        f\"{np.mean(bayes_accuracies):.4f}\",\n",
    "        f\"{np.std(bayes_accuracies):.4f}\",\n",
    "        f\"{np.min(bayes_accuracies):.4f}\",\n",
    "        f\"{np.max(bayes_accuracies):.4f}\"\n",
    "    ],\n",
    "    'Geométrico (Mínimos Cuadrados)': [\n",
    "        f\"{np.mean(geometric_accuracies):.4f}\",\n",
    "        f\"{np.std(geometric_accuracies):.4f}\",\n",
    "        f\"{np.min(geometric_accuracies):.4f}\",\n",
    "        f\"{np.max(geometric_accuracies):.4f}\"\n",
    "    ]\n",
    "}\n",
    "\n",
    "comparison_df = pd.DataFrame(comparison_data)\n",
    "print(comparison_df.to_string(index=False))\n",
    "\n",
    "# Análisis de diferencias\n",
    "print(f\"\\nDIFERENCIAS ENCONTRADAS:\")\n",
    "print(f\"- Diferencia en precisión promedio: {np.mean(geometric_accuracies) - np.mean(bayes_accuracies):.4f}\")\n",
    "print(f\"- Diferencia en desviación estándar: {np.std(geometric_accuracies) - np.std(bayes_accuracies):.4f}\")\n",
    "\n",
    "if np.mean(geometric_accuracies) > np.mean(bayes_accuracies):\n",
    "    print(f\"- El clasificador geométrico supera al bayesiano por {np.mean(geometric_accuracies) - np.mean(bayes_accuracies):.4f} en precisión promedio\")\n",
    "else:\n",
    "    print(f\"- El clasificador bayesiano supera al geométrico por {np.mean(bayes_accuracies) - np.mean(geometric_accuracies):.4f} en precisión promedio\")\n"
   ]
  },
  {
   "cell_type": "markdown",
   "id": "28bfc2cd",
   "metadata": {},
   "source": [
    "## Visualización de los resultados"
   ]
  },
  {
   "cell_type": "code",
   "execution_count": 13,
   "id": "8185810e",
   "metadata": {},
   "outputs": [
    {
     "data": {
      "image/png": "[encoded data removed]",
      "text/plain": [
       "<Figure size 1200x500 with 2 Axes>"
      ]
     },
     "metadata": {},
     "output_type": "display_data"
    }
   ],
   "source": [
    "plt.figure(figsize=(12, 5))\n",
    "\n",
    "# Gráfico 1: Comparación de precisiones por partición\n",
    "plt.subplot(1, 2, 1)\n",
    "partitions = range(1, 11)\n",
    "plt.plot(partitions, bayes_accuracies, 'o-', label='Bayesiano Gaussiano', linewidth=2, markersize=6)\n",
    "plt.plot(partitions, geometric_accuracies, 's-', label='Geométrico (Mínimos Cuadrados)', linewidth=2, markersize=6)\n",
    "plt.xlabel('Partición')\n",
    "plt.ylabel('Precisión')\n",
    "plt.title('Precisión por Partición en Validación Cruzada')\n",
    "plt.legend()\n",
    "plt.grid(True, alpha=0.3)\n",
    "plt.ylim(0.8, 1.0)\n",
    "\n",
    "# Gráfico 2: Comparación de estadísticas\n",
    "plt.subplot(1, 2, 2)\n",
    "metrics = ['Promedio', 'Desv. Est.', 'Mínimo', 'Máximo']\n",
    "bayes_stats = [np.mean(bayes_accuracies), np.std(bayes_accuracies), \n",
    "               np.min(bayes_accuracies), np.max(bayes_accuracies)]\n",
    "geometric_stats = [np.mean(geometric_accuracies), np.std(geometric_accuracies), \n",
    "                   np.min(geometric_accuracies), np.max(geometric_accuracies)]\n",
    "\n",
    "x = np.arange(len(metrics))\n",
    "width = 0.35\n",
    "\n",
    "plt.bar(x - width/2, bayes_stats, width, label='Bayesiano Gaussiano', alpha=0.8)\n",
    "plt.bar(x + width/2, geometric_stats, width, label='Geométrico (Mínimos Cuadrados)', alpha=0.8)\n",
    "\n",
    "plt.xlabel('Métricas')\n",
    "plt.ylabel('Valor')\n",
    "plt.title('Comparación de Estadísticas')\n",
    "plt.xticks(x, metrics)\n",
    "plt.legend()\n",
    "plt.grid(True, alpha=0.3)\n",
    "\n",
    "plt.tight_layout()\n",
    "plt.show()\n"
   ]
  },
  {
   "cell_type": "markdown",
   "id": "9121e54c",
   "metadata": {},
   "source": [
    "## Documentación del Proceso\n",
    "\n",
    "### Pasos Realizados:\n",
    "\n",
    "1. **Carga y Preprocesamiento de Datos:**\n",
    "   - Se utilizó `load_iris()` de sklearn para cargar el dataset\n",
    "   - Se filtraron solo las clases setosa (0) y versicolor (1) (100 muestras totales)\n",
    "   - Se utilizaron todas las 4 características: sepal length, sepal width, petal length, petal width\n",
    "\n",
    "2. **Implementación del Clasificador Bayesiano Gaussiano:**\n",
    "   - Se utilizó `GaussianNB` de sklearn (permitido según las restricciones)\n",
    "   - Este clasificador asume que las características siguen una distribución gaussiana\n",
    "   - Calcula automáticamente las probabilidades a priori y las distribuciones de cada clase\n",
    "\n",
    "3. **Implementación del Clasificador Geométrico por Mínimos Cuadrados:**\n",
    "   - Se implementó manualmente usando el método de mínimos cuadrados\n",
    "   - Convierte las etiquetas a -1 y 1 para el cálculo geométrico\n",
    "   - Calcula pesos usando la fórmula: w = (X^T X)^(-1) X^T y\n",
    "   - Usa pseudoinversa si la matriz es singular\n",
    "   - La predicción se basa en el signo de w^T x + b\n",
    "\n",
    "4. **Validación Cruzada de 10 Particiones:**\n",
    "   - Se implementó manualmente sin usar `KFold` de sklearn (prohibido)\n",
    "   - Se mezclaron los datos aleatoriamente con semilla fija (42)\n",
    "   - Se dividieron en 10 particiones de tamaño aproximadamente igual\n",
    "   - Se utilizó normalización (StandardScaler) en cada partición\n",
    "   - Se calculó la precisión para cada partición\n",
    "\n",
    "### Pruebas y Ajustes Realizados:\n",
    "\n",
    "- **Cumplimiento de restricciones:** Se eliminó el uso de `KFold`, `cross_val_score`, y `train_test_split` de sklearn\n",
    "- **Uso de librerías permitidas:** Se utilizó `GaussianNB` de sklearn y `load_iris()` como está permitido\n",
    "- **Normalización de características:** Se aplicó StandardScaler para evitar que características con diferentes escalas dominen el modelo\n",
    "- **Manejo de semillas aleatorias:** Se estableció `np.random.seed(42)` para garantizar reproducibilidad\n",
    "- **Manejo de matrices singulares:** Se implementó el uso de pseudoinversa en el clasificador geométrico\n",
    "\n",
    "### Errores Encontrados y Solucionados:\n",
    "\n",
    "1. **Uso de librerías prohibidas:** Se corrigió el uso de `KFold` de sklearn implementando la validación cruzada manualmente\n",
    "2. **Implementación manual del clasificador geométrico:** Se reemplazó la regresión logística por una implementación manual de mínimos cuadrados\n",
    "3. **Uso de GaussianNB:** Se cambió la implementación manual del bayesiano por `GaussianNB` de sklearn\n",
    "4. **Carga de datos:** Se cambió de cargar desde CSV a usar `load_iris()` de sklearn\n"
   ]
  }
 ],
 "metadata": {
  "kernelspec": {
   "display_name": "venv",
   "language": "python",
   "name": "python3"
  },
  "language_info": {
   "codemirror_mode": {
    "name": "ipython",
    "version": 3
   },
   "file_extension": ".py",
   "mimetype": "text/x-python",
   "name": "python",
   "nbconvert_exporter": "python",
   "pygments_lexer": "ipython3",
   "version": "3.11.2"
  }
 },
 "nbformat": 4,
 "nbformat_minor": 5
}
