{
 "cells": [
  {
   "cell_type": "markdown",
   "id": "cbb06618",
   "metadata": {},
   "source": [
    "# Primer Punto"
   ]
  }
 ],
 "metadata": {
  "language_info": {
   "name": "python"
  }
 },
 "nbformat": 4,
 "nbformat_minor": 5
}
